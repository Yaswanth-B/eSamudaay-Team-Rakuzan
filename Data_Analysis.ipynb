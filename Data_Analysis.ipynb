{
  "nbformat": 4,
  "nbformat_minor": 0,
  "metadata": {
    "colab": {
      "name": "Data Analysis",
      "provenance": [],
      "collapsed_sections": []
    },
    "kernelspec": {
      "name": "python3",
      "display_name": "Python 3"
    },
    "language_info": {
      "name": "python"
    }
  },
  "cells": [
    {
      "cell_type": "code",
      "source": [
        "from google.colab import drive\n",
        "drive.mount('/content/drive')"
      ],
      "metadata": {
        "colab": {
          "base_uri": "https://localhost:8080/"
        },
        "id": "VaA1oClv__sL",
        "outputId": "a402ff8f-80cf-48e1-95ce-a7abf941fbbb"
      },
      "execution_count": 91,
      "outputs": [
        {
          "output_type": "stream",
          "name": "stdout",
          "text": [
            "Drive already mounted at /content/drive; to attempt to forcibly remount, call drive.mount(\"/content/drive\", force_remount=True).\n"
          ]
        }
      ]
    },
    {
      "cell_type": "code",
      "source": [
        "import pandas as pd\n",
        "import requests\n",
        "import json"
      ],
      "metadata": {
        "id": "P3dTUJT1AAxR"
      },
      "execution_count": 92,
      "outputs": []
    },
    {
      "cell_type": "code",
      "source": [
        "class eSamudaay:\n",
        "\n",
        "  def __init__(self, filepath):\n",
        "\n",
        "    self.filepath = filepath\n",
        "    self.urldict = None\n",
        "    with open(self.filepath) as json_file:\n",
        "      self.urldict = json.load(json_file)\n",
        "    self.business = ''\n",
        "    self.url = ''\n",
        "    self.data = None\n",
        "    self.reasons = []\n",
        "  \n",
        "  def get_company(self, business):\n",
        "    self.business = business\n",
        "    \n",
        "    self.url = self.urldict[self.business]\n",
        "    self.fetch_data()\n",
        "    self.process_data()\n",
        "\n",
        "  def fetch_data(self):\n",
        "\n",
        "    response = requests.request(\"GET\", self.url)\n",
        "    url_return = json.loads(response.text)\n",
        "\n",
        "    self.data = pd.DataFrame(url_return)\n",
        "\n",
        "\n",
        "  def process_reasons(self):\n",
        "    possible_reasons = list(self.data['failure_reasons'])\n",
        "\n",
        "    given_reasons = []\n",
        "    for reason in possible_reasons:\n",
        "      if type(reason) == list:\n",
        "        given_reasons.extend(reason)\n",
        "      elif type(reason) == str:\n",
        "        given_reasons.append(reason)\n",
        "    \n",
        "    given_reasons = set(given_reasons)\n",
        "\n",
        "    self.reasons = list(given_reasons)\n",
        "\n",
        "\n",
        "  def expand(self, x):\n",
        "    if x['failure_reasons'] != None:\n",
        "      for reason in self.reasons:\n",
        "        if reason in x['failure_reasons']:\n",
        "          x[reason] = 1\n",
        "    \n",
        "    return x\n",
        "\n",
        "\n",
        "  def process_data(self):\n",
        "    self.process_reasons()\n",
        "    self.data[self.reasons] = 0\n",
        "    self.data = self.data.apply(self.expand, axis = 1)\n",
        "\n",
        "\n",
        "  def get_inventory(self):\n",
        "    return self.data['product_name'].value_counts()\n",
        "  \n",
        "  \n",
        "  def get_business_names(self):\n",
        "    return list(self.urldict.keys())\n",
        "  \n",
        "  def get_product_data(self):\n",
        "    attributes = ['sku_id', 'product_name', 'failure_reasons']\n",
        "    product_data = self.data[attributes]\n",
        "    return product_data\n",
        "  \n",
        "  def issues(self):\n",
        "    return self.data[self.reasons].sum().to_dict()\n",
        "\n",
        "  def product_stats(self):\n",
        "    inventory = self.get_inventory()\n",
        "    products_sum = self.data.drop(['sku_id', 'failure_reasons'], axis = 1).groupby(by = 'product_name').sum()\n",
        "    product_stats = pd.DataFrame()\n",
        "    for reason in self.reasons:\n",
        "      product_stats['%' + reason] = products_sum[reason]/inventory * 100\n",
        "    product_stats = product_stats.reset_index()\n",
        "    product_stats = product_stats.rename( columns = {'index': 'product_name'})\n",
        "    product_stats.fillna(0)\n",
        "    return product_stats\n",
        "  \n",
        "  def get_error_rate(self):\n",
        "    total_inventory = self.get_inventory().sum()\n",
        "    total_errors = self.data.drop(['sku_id', 'failure_reasons' ], axis = 1).groupby(by = 'product_name').sum().sum(axis = 1).sum()\n",
        "    if total_inventory != 0:\n",
        "      print(total_errors)\n",
        "      error_rate = total_errors/total_inventory\n",
        "      print(total_inventory)\n",
        "      return error_rate\n",
        "    else:\n",
        "      return 0\n",
        "  \n",
        "  def get_classification(self):\n",
        "    error_rate = self.get_error_rate()\n",
        "    if error_rate <1:\n",
        "      return 1\n",
        "    elif error_rate == 1:\n",
        "      return 2\n",
        "    else:\n",
        "      return 3"
      ],
      "metadata": {
        "id": "36gAR1KgMuJ4"
      },
      "execution_count": 119,
      "outputs": []
    },
    {
      "cell_type": "code",
      "source": [
        "hack = eSamudaay('/content/drive/MyDrive/esamudaay/output.json')"
      ],
      "metadata": {
        "id": "anBnR2I8aH9V"
      },
      "execution_count": 120,
      "outputs": []
    },
    {
      "cell_type": "code",
      "source": [
        "hack.get_company('Ravada Stores')"
      ],
      "metadata": {
        "id": "EMPu3moRfwZM"
      },
      "execution_count": 105,
      "outputs": []
    },
    {
      "cell_type": "code",
      "source": [
        "hack.get_error_rate()"
      ],
      "metadata": {
        "colab": {
          "base_uri": "https://localhost:8080/"
        },
        "id": "1RuiTfP84R9g",
        "outputId": "688f198a-0bd5-41d2-9d58-189557ba47eb"
      },
      "execution_count": 106,
      "outputs": [
        {
          "output_type": "execute_result",
          "data": {
            "text/plain": [
              "2.892156862745098"
            ]
          },
          "metadata": {},
          "execution_count": 106
        }
      ]
    },
    {
      "cell_type": "code",
      "source": [
        "business_list = hack.get_business_names()\n",
        "error_rates = []\n",
        "for name in business_list:\n",
        "  hack.get_company(name)\n",
        "  try:\n",
        "    error_rates.append(hack.get_error_rate())\n",
        "  except:\n",
        "    error_rates.append(0)"
      ],
      "metadata": {
        "id": "yMR76mhn4W0I"
      },
      "execution_count": 107,
      "outputs": []
    },
    {
      "cell_type": "code",
      "source": [
        "error = pd.Series(data = error_rates)"
      ],
      "metadata": {
        "id": "f9YdCOAy5WPa"
      },
      "execution_count": 108,
      "outputs": []
    },
    {
      "cell_type": "code",
      "source": [
        "error.describe()"
      ],
      "metadata": {
        "colab": {
          "base_uri": "https://localhost:8080/"
        },
        "id": "v35xdqeDk5Kh",
        "outputId": "b722c4a9-68ee-407a-dc47-d6cd98580c78"
      },
      "execution_count": 109,
      "outputs": [
        {
          "output_type": "execute_result",
          "data": {
            "text/plain": [
              "count    88.000000\n",
              "mean      1.067997\n",
              "std       0.538477\n",
              "min       0.000000\n",
              "25%       1.000000\n",
              "50%       1.000000\n",
              "75%       1.000000\n",
              "max       3.544041\n",
              "dtype: float64"
            ]
          },
          "metadata": {},
          "execution_count": 109
        }
      ]
    },
    {
      "cell_type": "markdown",
      "source": [
        "We find that most registered merchants seem to have 1 or another issue reported per product. With the max being 3.54. we can thus create 3 classes based on the data where\n",
        "  - having error rate < 1 is good \n",
        "  - having error rate = 1  requires a degree of correction\n",
        "  - and having error rate > 1 will require a large degree of correction"
      ],
      "metadata": {
        "id": "d3RpFWrVB9Eq"
      }
    },
    {
      "cell_type": "code",
      "source": [
        "hack.get_company('Ravada Stores')"
      ],
      "metadata": {
        "id": "H1fJHSyZAweW"
      },
      "execution_count": 121,
      "outputs": []
    },
    {
      "cell_type": "code",
      "source": [
        "hack.get_classification()"
      ],
      "metadata": {
        "colab": {
          "base_uri": "https://localhost:8080/"
        },
        "id": "Sru9-j4XUjwd",
        "outputId": "3d76e065-735e-49f8-c844-f47152e1f8e4"
      },
      "execution_count": 122,
      "outputs": [
        {
          "output_type": "stream",
          "name": "stdout",
          "text": [
            "295\n",
            "102\n"
          ]
        },
        {
          "output_type": "execute_result",
          "data": {
            "text/plain": [
              "3"
            ]
          },
          "metadata": {},
          "execution_count": 122
        }
      ]
    },
    {
      "cell_type": "code",
      "source": [
        ""
      ],
      "metadata": {
        "id": "_sQaq1B6UfEJ"
      },
      "execution_count": null,
      "outputs": []
    }
  ]
}